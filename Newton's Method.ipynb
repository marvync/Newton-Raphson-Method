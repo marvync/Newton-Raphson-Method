{
 "cells": [
  {
   "cell_type": "code",
   "execution_count": 1,
   "metadata": {},
   "outputs": [],
   "source": [
    "from sympy import symbols, diff, lambdify"
   ]
  },
  {
   "cell_type": "code",
   "execution_count": 2,
   "metadata": {},
   "outputs": [],
   "source": [
    "x, y, z = symbols('x y z')"
   ]
  },
  {
   "cell_type": "code",
   "execution_count": 3,
   "metadata": {},
   "outputs": [],
   "source": [
    "def NewRaph(f, x0, ϵ=1e-3, Nmax=100):\n",
    "    '''Approximate solution of f(x)=0 by Newton's method.\n",
    "\n",
    "    Parameters\n",
    "    ----------\n",
    "    f : function\n",
    "        Function for which we are searching for a solution f(x)=0.\n",
    "    x0 : number\n",
    "        Initial guess for a solution f(x)=0.\n",
    "    ϵ : number\n",
    "        Stopping criteria is abs(f(x)) < epsilon.\n",
    "    Nmax : integer\n",
    "        Maximum number of iterations of Newton's method.\n",
    "\n",
    "    Returns\n",
    "    -------\n",
    "    xn : number\n",
    "    \n",
    "        Implement Newton's method: compute the linear approximation of f(x) at xn and find x intercept by the formula\n",
    "            x = xn - f(xn)/df(xn)\n",
    "        Continue until abs(f(xn)) < epsilon and return xn.\n",
    "        If Df(xn) == 0, return None.\n",
    "        If the number of iterations exceeds Nmax, then return None.\n",
    "\n",
    "    Examples\n",
    "    --------\n",
    "    f = x**3 - x**2 - 1\n",
    "    NewRaph(f, x0=1)\n",
    "    Found solution after 6 iterations.\n",
    "    1.4655712318767877\n",
    "    '''\n",
    "    xn = x0\n",
    "    df = diff(f,x)\n",
    "    for n in range(Nmax):\n",
    "        fxn = lambdify(x, f, 'math')(xn)\n",
    "        if abs(fxn) < ϵ:\n",
    "            print('Found solution after',n,'iterations.')\n",
    "            return xn\n",
    "        dfxn = lambdify(x, df, 'math')(xn)\n",
    "        if dfxn == 0:\n",
    "            print('Zero derivative. No solution found.')\n",
    "            return None\n",
    "        xn = xn - fxn/dfxn\n",
    "    print('Exceeded maximum iterations. No solution found.')\n",
    "    return None"
   ]
  },
  {
   "cell_type": "code",
   "execution_count": 4,
   "metadata": {},
   "outputs": [
    {
     "name": "stdout",
     "output_type": "stream",
     "text": [
      "Found solution after 5 iterations.\n"
     ]
    },
    {
     "data": {
      "text/plain": [
       "1.4655713749070918"
      ]
     },
     "execution_count": 4,
     "metadata": {},
     "output_type": "execute_result"
    }
   ],
   "source": [
    "f = x**3 - x**2 - 1\n",
    "NewRaph(f, x0=1)"
   ]
  }
 ],
 "metadata": {
  "kernelspec": {
   "display_name": "Python 3",
   "language": "python",
   "name": "python3"
  },
  "language_info": {
   "codemirror_mode": {
    "name": "ipython",
    "version": 3
   },
   "file_extension": ".py",
   "mimetype": "text/x-python",
   "name": "python",
   "nbconvert_exporter": "python",
   "pygments_lexer": "ipython3",
   "version": "3.7.4"
  }
 },
 "nbformat": 4,
 "nbformat_minor": 4
}
